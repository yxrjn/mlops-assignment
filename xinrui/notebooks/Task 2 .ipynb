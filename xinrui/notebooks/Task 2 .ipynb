{
 "cells": [
  {
   "cell_type": "code",
   "execution_count": 1,
   "id": "b6c89502-f8ea-4f92-af1e-6c44d2c64403",
   "metadata": {},
   "outputs": [],
   "source": [
    "import pandas as pd\n",
    "import mlflow\n",
    "import os\n",
    "import sys\n",
    "import mlflow.sklearn\n",
    "from pycaret.classification import *"
   ]
  },
  {
   "cell_type": "markdown",
   "id": "26b2a1e2-87b4-4dd0-af11-6a23e642eb44",
   "metadata": {},
   "source": [
    "# Introduction\n",
    "Below codes will meet the wheat seeds business objective by training a classification model to predict the type of wheat based on kernel attributes.<br>\n",
    "Evaluating the model using key performance metrics and <br>\n",
    "Logging the model and experiment details in mlflow for future references and reproducibity"
   ]
  },
  {
   "cell_type": "markdown",
   "id": "4d7f5ada-c77f-46e9-84fc-50a58eb38253",
   "metadata": {},
   "source": [
    "## Configure mlflow for remote experiment tracking\n",
    "The experiment name created to organize different model run would be 'wheat_classification'<br>\n",
    "In here , i have set the mlflow tracking uri to make sure that the mlflow tracking server is running."
   ]
  },
  {
   "cell_type": "code",
   "execution_count": 2,
   "id": "696f8f01-592e-4fa3-aadf-a519cb393409",
   "metadata": {},
   "outputs": [
    {
     "data": {
      "text/plain": [
       "<Experiment: artifact_location='mlflow-artifacts:/511741200058060408', creation_time=1739778668619, experiment_id='511741200058060408', last_update_time=1739778668619, lifecycle_stage='active', name='wheat_classification', tags={}>"
      ]
     },
     "execution_count": 2,
     "metadata": {},
     "output_type": "execute_result"
    }
   ],
   "source": [
    "mlflow.set_tracking_uri(\"http://localhost:5000\")\n",
    "# Create MLflow Experiment\n",
    "experiment_name = \"wheat_classification\"\n",
    "mlflow.set_experiment(experiment_name)"
   ]
  },
  {
   "cell_type": "markdown",
   "id": "d74d5d08-9eac-4c74-b803-6fbb5841b6b7",
   "metadata": {},
   "source": [
    "## Load dataset\n",
    "Added codes to ensure that the dataset file exists before going on <br>\n",
    "The dataset path would be 03_Wheat_Seeds.csv"
   ]
  },
  {
   "cell_type": "code",
   "execution_count": 3,
   "id": "2582e1d3-0baa-4593-949d-29d7d5058c39",
   "metadata": {},
   "outputs": [],
   "source": [
    "dataset_path = \"03_Wheat_Seeds.csv\"\n",
    "if not os.path.exists(dataset_path):\n",
    "    raise FileNotFoundError(f\"Dataset file '{dataset_path}' not found.\")\n",
    "\n",
    "df = pd.read_csv(dataset_path)"
   ]
  },
  {
   "cell_type": "markdown",
   "id": "8a984a96-8d8e-4a14-98d6-a51bfb194c11",
   "metadata": {},
   "source": [
    "## Pycaret setup\n",
    "- Scales numerical features\n",
    "- selects the most important features\n",
    "- bins continuous numerical variables into intervals for feature engineering\n",
    "- auto logging is disabled as mlflow logging will be handled manually later ( something is wrong with my version)\n",
    "- This code target variable is 'type' which represents the 3 wheat varieties.\n",
    "- Applied normalization to numeric features\n",
    "- Set up random seed for reproducibility to be 42"
   ]
  },
  {
   "cell_type": "code",
   "execution_count": 4,
   "id": "cbc86c9f-ca7e-4102-bdd1-3186967a27e8",
   "metadata": {},
   "outputs": [
    {
     "data": {
      "text/html": [
       "<style type=\"text/css\">\n",
       "#T_d1329_row9_col1, #T_d1329_row13_col1, #T_d1329_row15_col1 {\n",
       "  background-color: lightgreen;\n",
       "}\n",
       "</style>\n",
       "<table id=\"T_d1329\">\n",
       "  <thead>\n",
       "    <tr>\n",
       "      <th class=\"blank level0\" >&nbsp;</th>\n",
       "      <th id=\"T_d1329_level0_col0\" class=\"col_heading level0 col0\" >Description</th>\n",
       "      <th id=\"T_d1329_level0_col1\" class=\"col_heading level0 col1\" >Value</th>\n",
       "    </tr>\n",
       "  </thead>\n",
       "  <tbody>\n",
       "    <tr>\n",
       "      <th id=\"T_d1329_level0_row0\" class=\"row_heading level0 row0\" >0</th>\n",
       "      <td id=\"T_d1329_row0_col0\" class=\"data row0 col0\" >Session id</td>\n",
       "      <td id=\"T_d1329_row0_col1\" class=\"data row0 col1\" >42</td>\n",
       "    </tr>\n",
       "    <tr>\n",
       "      <th id=\"T_d1329_level0_row1\" class=\"row_heading level0 row1\" >1</th>\n",
       "      <td id=\"T_d1329_row1_col0\" class=\"data row1 col0\" >Target</td>\n",
       "      <td id=\"T_d1329_row1_col1\" class=\"data row1 col1\" >Type</td>\n",
       "    </tr>\n",
       "    <tr>\n",
       "      <th id=\"T_d1329_level0_row2\" class=\"row_heading level0 row2\" >2</th>\n",
       "      <td id=\"T_d1329_row2_col0\" class=\"data row2 col0\" >Target type</td>\n",
       "      <td id=\"T_d1329_row2_col1\" class=\"data row2 col1\" >Multiclass</td>\n",
       "    </tr>\n",
       "    <tr>\n",
       "      <th id=\"T_d1329_level0_row3\" class=\"row_heading level0 row3\" >3</th>\n",
       "      <td id=\"T_d1329_row3_col0\" class=\"data row3 col0\" >Target mapping</td>\n",
       "      <td id=\"T_d1329_row3_col1\" class=\"data row3 col1\" >1: 0, 2: 1, 3: 2</td>\n",
       "    </tr>\n",
       "    <tr>\n",
       "      <th id=\"T_d1329_level0_row4\" class=\"row_heading level0 row4\" >4</th>\n",
       "      <td id=\"T_d1329_row4_col0\" class=\"data row4 col0\" >Original data shape</td>\n",
       "      <td id=\"T_d1329_row4_col1\" class=\"data row4 col1\" >(199, 8)</td>\n",
       "    </tr>\n",
       "    <tr>\n",
       "      <th id=\"T_d1329_level0_row5\" class=\"row_heading level0 row5\" >5</th>\n",
       "      <td id=\"T_d1329_row5_col0\" class=\"data row5 col0\" >Transformed data shape</td>\n",
       "      <td id=\"T_d1329_row5_col1\" class=\"data row5 col1\" >(199, 2)</td>\n",
       "    </tr>\n",
       "    <tr>\n",
       "      <th id=\"T_d1329_level0_row6\" class=\"row_heading level0 row6\" >6</th>\n",
       "      <td id=\"T_d1329_row6_col0\" class=\"data row6 col0\" >Transformed train set shape</td>\n",
       "      <td id=\"T_d1329_row6_col1\" class=\"data row6 col1\" >(139, 2)</td>\n",
       "    </tr>\n",
       "    <tr>\n",
       "      <th id=\"T_d1329_level0_row7\" class=\"row_heading level0 row7\" >7</th>\n",
       "      <td id=\"T_d1329_row7_col0\" class=\"data row7 col0\" >Transformed test set shape</td>\n",
       "      <td id=\"T_d1329_row7_col1\" class=\"data row7 col1\" >(60, 2)</td>\n",
       "    </tr>\n",
       "    <tr>\n",
       "      <th id=\"T_d1329_level0_row8\" class=\"row_heading level0 row8\" >8</th>\n",
       "      <td id=\"T_d1329_row8_col0\" class=\"data row8 col0\" >Numeric features</td>\n",
       "      <td id=\"T_d1329_row8_col1\" class=\"data row8 col1\" >7</td>\n",
       "    </tr>\n",
       "    <tr>\n",
       "      <th id=\"T_d1329_level0_row9\" class=\"row_heading level0 row9\" >9</th>\n",
       "      <td id=\"T_d1329_row9_col0\" class=\"data row9 col0\" >Preprocess</td>\n",
       "      <td id=\"T_d1329_row9_col1\" class=\"data row9 col1\" >True</td>\n",
       "    </tr>\n",
       "    <tr>\n",
       "      <th id=\"T_d1329_level0_row10\" class=\"row_heading level0 row10\" >10</th>\n",
       "      <td id=\"T_d1329_row10_col0\" class=\"data row10 col0\" >Imputation type</td>\n",
       "      <td id=\"T_d1329_row10_col1\" class=\"data row10 col1\" >simple</td>\n",
       "    </tr>\n",
       "    <tr>\n",
       "      <th id=\"T_d1329_level0_row11\" class=\"row_heading level0 row11\" >11</th>\n",
       "      <td id=\"T_d1329_row11_col0\" class=\"data row11 col0\" >Numeric imputation</td>\n",
       "      <td id=\"T_d1329_row11_col1\" class=\"data row11 col1\" >mean</td>\n",
       "    </tr>\n",
       "    <tr>\n",
       "      <th id=\"T_d1329_level0_row12\" class=\"row_heading level0 row12\" >12</th>\n",
       "      <td id=\"T_d1329_row12_col0\" class=\"data row12 col0\" >Categorical imputation</td>\n",
       "      <td id=\"T_d1329_row12_col1\" class=\"data row12 col1\" >mode</td>\n",
       "    </tr>\n",
       "    <tr>\n",
       "      <th id=\"T_d1329_level0_row13\" class=\"row_heading level0 row13\" >13</th>\n",
       "      <td id=\"T_d1329_row13_col0\" class=\"data row13 col0\" >Normalize</td>\n",
       "      <td id=\"T_d1329_row13_col1\" class=\"data row13 col1\" >True</td>\n",
       "    </tr>\n",
       "    <tr>\n",
       "      <th id=\"T_d1329_level0_row14\" class=\"row_heading level0 row14\" >14</th>\n",
       "      <td id=\"T_d1329_row14_col0\" class=\"data row14 col0\" >Normalize method</td>\n",
       "      <td id=\"T_d1329_row14_col1\" class=\"data row14 col1\" >zscore</td>\n",
       "    </tr>\n",
       "    <tr>\n",
       "      <th id=\"T_d1329_level0_row15\" class=\"row_heading level0 row15\" >15</th>\n",
       "      <td id=\"T_d1329_row15_col0\" class=\"data row15 col0\" >Feature selection</td>\n",
       "      <td id=\"T_d1329_row15_col1\" class=\"data row15 col1\" >True</td>\n",
       "    </tr>\n",
       "    <tr>\n",
       "      <th id=\"T_d1329_level0_row16\" class=\"row_heading level0 row16\" >16</th>\n",
       "      <td id=\"T_d1329_row16_col0\" class=\"data row16 col0\" >Feature selection method</td>\n",
       "      <td id=\"T_d1329_row16_col1\" class=\"data row16 col1\" >classic</td>\n",
       "    </tr>\n",
       "    <tr>\n",
       "      <th id=\"T_d1329_level0_row17\" class=\"row_heading level0 row17\" >17</th>\n",
       "      <td id=\"T_d1329_row17_col0\" class=\"data row17 col0\" >Feature selection estimator</td>\n",
       "      <td id=\"T_d1329_row17_col1\" class=\"data row17 col1\" >lightgbm</td>\n",
       "    </tr>\n",
       "    <tr>\n",
       "      <th id=\"T_d1329_level0_row18\" class=\"row_heading level0 row18\" >18</th>\n",
       "      <td id=\"T_d1329_row18_col0\" class=\"data row18 col0\" >Number of features selected</td>\n",
       "      <td id=\"T_d1329_row18_col1\" class=\"data row18 col1\" >0.200000</td>\n",
       "    </tr>\n",
       "    <tr>\n",
       "      <th id=\"T_d1329_level0_row19\" class=\"row_heading level0 row19\" >19</th>\n",
       "      <td id=\"T_d1329_row19_col0\" class=\"data row19 col0\" >Fold Generator</td>\n",
       "      <td id=\"T_d1329_row19_col1\" class=\"data row19 col1\" >StratifiedKFold</td>\n",
       "    </tr>\n",
       "    <tr>\n",
       "      <th id=\"T_d1329_level0_row20\" class=\"row_heading level0 row20\" >20</th>\n",
       "      <td id=\"T_d1329_row20_col0\" class=\"data row20 col0\" >Fold Number</td>\n",
       "      <td id=\"T_d1329_row20_col1\" class=\"data row20 col1\" >10</td>\n",
       "    </tr>\n",
       "    <tr>\n",
       "      <th id=\"T_d1329_level0_row21\" class=\"row_heading level0 row21\" >21</th>\n",
       "      <td id=\"T_d1329_row21_col0\" class=\"data row21 col0\" >CPU Jobs</td>\n",
       "      <td id=\"T_d1329_row21_col1\" class=\"data row21 col1\" >-1</td>\n",
       "    </tr>\n",
       "    <tr>\n",
       "      <th id=\"T_d1329_level0_row22\" class=\"row_heading level0 row22\" >22</th>\n",
       "      <td id=\"T_d1329_row22_col0\" class=\"data row22 col0\" >Use GPU</td>\n",
       "      <td id=\"T_d1329_row22_col1\" class=\"data row22 col1\" >False</td>\n",
       "    </tr>\n",
       "    <tr>\n",
       "      <th id=\"T_d1329_level0_row23\" class=\"row_heading level0 row23\" >23</th>\n",
       "      <td id=\"T_d1329_row23_col0\" class=\"data row23 col0\" >Log Experiment</td>\n",
       "      <td id=\"T_d1329_row23_col1\" class=\"data row23 col1\" >False</td>\n",
       "    </tr>\n",
       "    <tr>\n",
       "      <th id=\"T_d1329_level0_row24\" class=\"row_heading level0 row24\" >24</th>\n",
       "      <td id=\"T_d1329_row24_col0\" class=\"data row24 col0\" >Experiment Name</td>\n",
       "      <td id=\"T_d1329_row24_col1\" class=\"data row24 col1\" >clf-default-name</td>\n",
       "    </tr>\n",
       "    <tr>\n",
       "      <th id=\"T_d1329_level0_row25\" class=\"row_heading level0 row25\" >25</th>\n",
       "      <td id=\"T_d1329_row25_col0\" class=\"data row25 col0\" >USI</td>\n",
       "      <td id=\"T_d1329_row25_col1\" class=\"data row25 col1\" >a8e0</td>\n",
       "    </tr>\n",
       "  </tbody>\n",
       "</table>\n"
      ],
      "text/plain": [
       "<pandas.io.formats.style.Styler at 0x1fec3fb9df0>"
      ]
     },
     "metadata": {},
     "output_type": "display_data"
    }
   ],
   "source": [
    "clf_setup = setup(\n",
    "    data=df,\n",
    "    target=\"Type\",\n",
    "    normalize=True,            \n",
    "    feature_selection=True,    \n",
    "    bin_numeric_features=[\"Area\", \"Perimeter\", \"Length\", \"Width\", \"Groove\"],  \n",
    "    session_id=42,\n",
    "    log_experiment=False, #manually adding the experiment later on in the codes, cannot set this as true as it will show error on my end. perhaps some version/conflicts issue.\n",
    ")\n"
   ]
  },
  {
   "cell_type": "markdown",
   "id": "bfce881c-2aec-4523-a2be-36f634e9de2e",
   "metadata": {},
   "source": [
    "## Model training and selection\n",
    "Selects the best model using accuracy as the metric and compare different models\n",
    "- Uses cross validation to evaluate on each model"
   ]
  },
  {
   "cell_type": "code",
   "execution_count": 5,
   "id": "c67d017c-c235-4ae5-a90c-a12f3ca711ae",
   "metadata": {},
   "outputs": [
    {
     "data": {
      "text/html": [],
      "text/plain": [
       "<IPython.core.display.HTML object>"
      ]
     },
     "metadata": {},
     "output_type": "display_data"
    },
    {
     "data": {
      "text/html": [
       "<style type=\"text/css\">\n",
       "#T_cd378 th {\n",
       "  text-align: left;\n",
       "}\n",
       "#T_cd378_row0_col0, #T_cd378_row0_col6, #T_cd378_row0_col7, #T_cd378_row1_col0, #T_cd378_row1_col2, #T_cd378_row1_col6, #T_cd378_row1_col7, #T_cd378_row2_col0, #T_cd378_row2_col1, #T_cd378_row2_col2, #T_cd378_row2_col3, #T_cd378_row2_col4, #T_cd378_row2_col5, #T_cd378_row3_col0, #T_cd378_row3_col1, #T_cd378_row3_col2, #T_cd378_row3_col3, #T_cd378_row3_col4, #T_cd378_row3_col5, #T_cd378_row3_col6, #T_cd378_row3_col7, #T_cd378_row4_col0, #T_cd378_row4_col1, #T_cd378_row4_col2, #T_cd378_row4_col3, #T_cd378_row4_col4, #T_cd378_row4_col5, #T_cd378_row4_col6, #T_cd378_row4_col7, #T_cd378_row5_col0, #T_cd378_row5_col1, #T_cd378_row5_col2, #T_cd378_row5_col3, #T_cd378_row5_col4, #T_cd378_row5_col5, #T_cd378_row5_col6, #T_cd378_row5_col7, #T_cd378_row6_col0, #T_cd378_row6_col1, #T_cd378_row6_col2, #T_cd378_row6_col3, #T_cd378_row6_col4, #T_cd378_row6_col5, #T_cd378_row6_col6, #T_cd378_row6_col7, #T_cd378_row7_col0, #T_cd378_row7_col1, #T_cd378_row7_col2, #T_cd378_row7_col3, #T_cd378_row7_col4, #T_cd378_row7_col5, #T_cd378_row7_col6, #T_cd378_row7_col7, #T_cd378_row8_col0, #T_cd378_row8_col1, #T_cd378_row8_col2, #T_cd378_row8_col3, #T_cd378_row8_col4, #T_cd378_row8_col5, #T_cd378_row8_col6, #T_cd378_row8_col7, #T_cd378_row9_col0, #T_cd378_row9_col1, #T_cd378_row9_col2, #T_cd378_row9_col3, #T_cd378_row9_col4, #T_cd378_row9_col5, #T_cd378_row9_col6, #T_cd378_row9_col7, #T_cd378_row10_col0, #T_cd378_row10_col1, #T_cd378_row10_col2, #T_cd378_row10_col3, #T_cd378_row10_col4, #T_cd378_row10_col5, #T_cd378_row10_col6, #T_cd378_row10_col7, #T_cd378_row11_col0, #T_cd378_row11_col1, #T_cd378_row11_col2, #T_cd378_row11_col3, #T_cd378_row11_col4, #T_cd378_row11_col5, #T_cd378_row11_col6, #T_cd378_row11_col7, #T_cd378_row12_col0, #T_cd378_row12_col1, #T_cd378_row12_col2, #T_cd378_row12_col3, #T_cd378_row12_col4, #T_cd378_row12_col5, #T_cd378_row12_col6, #T_cd378_row12_col7, #T_cd378_row13_col0, #T_cd378_row13_col1, #T_cd378_row13_col2, #T_cd378_row13_col3, #T_cd378_row13_col4, #T_cd378_row13_col5, #T_cd378_row13_col6, #T_cd378_row13_col7 {\n",
       "  text-align: left;\n",
       "}\n",
       "#T_cd378_row0_col1, #T_cd378_row0_col2, #T_cd378_row0_col3, #T_cd378_row0_col4, #T_cd378_row0_col5, #T_cd378_row1_col1, #T_cd378_row1_col3, #T_cd378_row1_col4, #T_cd378_row1_col5, #T_cd378_row2_col6, #T_cd378_row2_col7 {\n",
       "  text-align: left;\n",
       "  background-color: yellow;\n",
       "}\n",
       "#T_cd378_row0_col8, #T_cd378_row1_col8, #T_cd378_row3_col8, #T_cd378_row4_col8, #T_cd378_row5_col8, #T_cd378_row6_col8, #T_cd378_row7_col8, #T_cd378_row8_col8, #T_cd378_row9_col8, #T_cd378_row10_col8, #T_cd378_row11_col8, #T_cd378_row12_col8, #T_cd378_row13_col8 {\n",
       "  text-align: left;\n",
       "  background-color: lightgrey;\n",
       "}\n",
       "#T_cd378_row2_col8 {\n",
       "  text-align: left;\n",
       "  background-color: yellow;\n",
       "  background-color: lightgrey;\n",
       "}\n",
       "</style>\n",
       "<table id=\"T_cd378\">\n",
       "  <thead>\n",
       "    <tr>\n",
       "      <th class=\"blank level0\" >&nbsp;</th>\n",
       "      <th id=\"T_cd378_level0_col0\" class=\"col_heading level0 col0\" >Model</th>\n",
       "      <th id=\"T_cd378_level0_col1\" class=\"col_heading level0 col1\" >Accuracy</th>\n",
       "      <th id=\"T_cd378_level0_col2\" class=\"col_heading level0 col2\" >AUC</th>\n",
       "      <th id=\"T_cd378_level0_col3\" class=\"col_heading level0 col3\" >Recall</th>\n",
       "      <th id=\"T_cd378_level0_col4\" class=\"col_heading level0 col4\" >Prec.</th>\n",
       "      <th id=\"T_cd378_level0_col5\" class=\"col_heading level0 col5\" >F1</th>\n",
       "      <th id=\"T_cd378_level0_col6\" class=\"col_heading level0 col6\" >Kappa</th>\n",
       "      <th id=\"T_cd378_level0_col7\" class=\"col_heading level0 col7\" >MCC</th>\n",
       "      <th id=\"T_cd378_level0_col8\" class=\"col_heading level0 col8\" >TT (Sec)</th>\n",
       "    </tr>\n",
       "  </thead>\n",
       "  <tbody>\n",
       "    <tr>\n",
       "      <th id=\"T_cd378_level0_row0\" class=\"row_heading level0 row0\" >nb</th>\n",
       "      <td id=\"T_cd378_row0_col0\" class=\"data row0 col0\" >Naive Bayes</td>\n",
       "      <td id=\"T_cd378_row0_col1\" class=\"data row0 col1\" >0.5676</td>\n",
       "      <td id=\"T_cd378_row0_col2\" class=\"data row0 col2\" >0.7605</td>\n",
       "      <td id=\"T_cd378_row0_col3\" class=\"data row0 col3\" >0.5676</td>\n",
       "      <td id=\"T_cd378_row0_col4\" class=\"data row0 col4\" >0.5854</td>\n",
       "      <td id=\"T_cd378_row0_col5\" class=\"data row0 col5\" >0.5560</td>\n",
       "      <td id=\"T_cd378_row0_col6\" class=\"data row0 col6\" >0.3521</td>\n",
       "      <td id=\"T_cd378_row0_col7\" class=\"data row0 col7\" >0.3645</td>\n",
       "      <td id=\"T_cd378_row0_col8\" class=\"data row0 col8\" >0.0660</td>\n",
       "    </tr>\n",
       "    <tr>\n",
       "      <th id=\"T_cd378_level0_row1\" class=\"row_heading level0 row1\" >qda</th>\n",
       "      <td id=\"T_cd378_row1_col0\" class=\"data row1 col0\" >Quadratic Discriminant Analysis</td>\n",
       "      <td id=\"T_cd378_row1_col1\" class=\"data row1 col1\" >0.5676</td>\n",
       "      <td id=\"T_cd378_row1_col2\" class=\"data row1 col2\" >0.0000</td>\n",
       "      <td id=\"T_cd378_row1_col3\" class=\"data row1 col3\" >0.5676</td>\n",
       "      <td id=\"T_cd378_row1_col4\" class=\"data row1 col4\" >0.5854</td>\n",
       "      <td id=\"T_cd378_row1_col5\" class=\"data row1 col5\" >0.5560</td>\n",
       "      <td id=\"T_cd378_row1_col6\" class=\"data row1 col6\" >0.3521</td>\n",
       "      <td id=\"T_cd378_row1_col7\" class=\"data row1 col7\" >0.3645</td>\n",
       "      <td id=\"T_cd378_row1_col8\" class=\"data row1 col8\" >0.0720</td>\n",
       "    </tr>\n",
       "    <tr>\n",
       "      <th id=\"T_cd378_level0_row2\" class=\"row_heading level0 row2\" >ridge</th>\n",
       "      <td id=\"T_cd378_row2_col0\" class=\"data row2 col0\" >Ridge Classifier</td>\n",
       "      <td id=\"T_cd378_row2_col1\" class=\"data row2 col1\" >0.5670</td>\n",
       "      <td id=\"T_cd378_row2_col2\" class=\"data row2 col2\" >0.0000</td>\n",
       "      <td id=\"T_cd378_row2_col3\" class=\"data row2 col3\" >0.5670</td>\n",
       "      <td id=\"T_cd378_row2_col4\" class=\"data row2 col4\" >0.4669</td>\n",
       "      <td id=\"T_cd378_row2_col5\" class=\"data row2 col5\" >0.4789</td>\n",
       "      <td id=\"T_cd378_row2_col6\" class=\"data row2 col6\" >0.3539</td>\n",
       "      <td id=\"T_cd378_row2_col7\" class=\"data row2 col7\" >0.4110</td>\n",
       "      <td id=\"T_cd378_row2_col8\" class=\"data row2 col8\" >0.0620</td>\n",
       "    </tr>\n",
       "    <tr>\n",
       "      <th id=\"T_cd378_level0_row3\" class=\"row_heading level0 row3\" >lr</th>\n",
       "      <td id=\"T_cd378_row3_col0\" class=\"data row3 col0\" >Logistic Regression</td>\n",
       "      <td id=\"T_cd378_row3_col1\" class=\"data row3 col1\" >0.5604</td>\n",
       "      <td id=\"T_cd378_row3_col2\" class=\"data row3 col2\" >0.0000</td>\n",
       "      <td id=\"T_cd378_row3_col3\" class=\"data row3 col3\" >0.5604</td>\n",
       "      <td id=\"T_cd378_row3_col4\" class=\"data row3 col4\" >0.5763</td>\n",
       "      <td id=\"T_cd378_row3_col5\" class=\"data row3 col5\" >0.5490</td>\n",
       "      <td id=\"T_cd378_row3_col6\" class=\"data row3 col6\" >0.3420</td>\n",
       "      <td id=\"T_cd378_row3_col7\" class=\"data row3 col7\" >0.3537</td>\n",
       "      <td id=\"T_cd378_row3_col8\" class=\"data row3 col8\" >0.7380</td>\n",
       "    </tr>\n",
       "    <tr>\n",
       "      <th id=\"T_cd378_level0_row4\" class=\"row_heading level0 row4\" >lda</th>\n",
       "      <td id=\"T_cd378_row4_col0\" class=\"data row4 col0\" >Linear Discriminant Analysis</td>\n",
       "      <td id=\"T_cd378_row4_col1\" class=\"data row4 col1\" >0.5604</td>\n",
       "      <td id=\"T_cd378_row4_col2\" class=\"data row4 col2\" >0.0000</td>\n",
       "      <td id=\"T_cd378_row4_col3\" class=\"data row4 col3\" >0.5604</td>\n",
       "      <td id=\"T_cd378_row4_col4\" class=\"data row4 col4\" >0.5759</td>\n",
       "      <td id=\"T_cd378_row4_col5\" class=\"data row4 col5\" >0.5504</td>\n",
       "      <td id=\"T_cd378_row4_col6\" class=\"data row4 col6\" >0.3407</td>\n",
       "      <td id=\"T_cd378_row4_col7\" class=\"data row4 col7\" >0.3507</td>\n",
       "      <td id=\"T_cd378_row4_col8\" class=\"data row4 col8\" >0.1330</td>\n",
       "    </tr>\n",
       "    <tr>\n",
       "      <th id=\"T_cd378_level0_row5\" class=\"row_heading level0 row5\" >ada</th>\n",
       "      <td id=\"T_cd378_row5_col0\" class=\"data row5 col0\" >Ada Boost Classifier</td>\n",
       "      <td id=\"T_cd378_row5_col1\" class=\"data row5 col1\" >0.4813</td>\n",
       "      <td id=\"T_cd378_row5_col2\" class=\"data row5 col2\" >0.0000</td>\n",
       "      <td id=\"T_cd378_row5_col3\" class=\"data row5 col3\" >0.4813</td>\n",
       "      <td id=\"T_cd378_row5_col4\" class=\"data row5 col4\" >0.5012</td>\n",
       "      <td id=\"T_cd378_row5_col5\" class=\"data row5 col5\" >0.4594</td>\n",
       "      <td id=\"T_cd378_row5_col6\" class=\"data row5 col6\" >0.2252</td>\n",
       "      <td id=\"T_cd378_row5_col7\" class=\"data row5 col7\" >0.2360</td>\n",
       "      <td id=\"T_cd378_row5_col8\" class=\"data row5 col8\" >0.0980</td>\n",
       "    </tr>\n",
       "    <tr>\n",
       "      <th id=\"T_cd378_level0_row6\" class=\"row_heading level0 row6\" >dt</th>\n",
       "      <td id=\"T_cd378_row6_col0\" class=\"data row6 col0\" >Decision Tree Classifier</td>\n",
       "      <td id=\"T_cd378_row6_col1\" class=\"data row6 col1\" >0.4747</td>\n",
       "      <td id=\"T_cd378_row6_col2\" class=\"data row6 col2\" >0.6030</td>\n",
       "      <td id=\"T_cd378_row6_col3\" class=\"data row6 col3\" >0.4747</td>\n",
       "      <td id=\"T_cd378_row6_col4\" class=\"data row6 col4\" >0.4906</td>\n",
       "      <td id=\"T_cd378_row6_col5\" class=\"data row6 col5\" >0.4621</td>\n",
       "      <td id=\"T_cd378_row6_col6\" class=\"data row6 col6\" >0.2120</td>\n",
       "      <td id=\"T_cd378_row6_col7\" class=\"data row6 col7\" >0.2216</td>\n",
       "      <td id=\"T_cd378_row6_col8\" class=\"data row6 col8\" >0.0630</td>\n",
       "    </tr>\n",
       "    <tr>\n",
       "      <th id=\"T_cd378_level0_row7\" class=\"row_heading level0 row7\" >rf</th>\n",
       "      <td id=\"T_cd378_row7_col0\" class=\"data row7 col0\" >Random Forest Classifier</td>\n",
       "      <td id=\"T_cd378_row7_col1\" class=\"data row7 col1\" >0.4747</td>\n",
       "      <td id=\"T_cd378_row7_col2\" class=\"data row7 col2\" >0.6598</td>\n",
       "      <td id=\"T_cd378_row7_col3\" class=\"data row7 col3\" >0.4747</td>\n",
       "      <td id=\"T_cd378_row7_col4\" class=\"data row7 col4\" >0.4906</td>\n",
       "      <td id=\"T_cd378_row7_col5\" class=\"data row7 col5\" >0.4621</td>\n",
       "      <td id=\"T_cd378_row7_col6\" class=\"data row7 col6\" >0.2120</td>\n",
       "      <td id=\"T_cd378_row7_col7\" class=\"data row7 col7\" >0.2216</td>\n",
       "      <td id=\"T_cd378_row7_col8\" class=\"data row7 col8\" >0.1250</td>\n",
       "    </tr>\n",
       "    <tr>\n",
       "      <th id=\"T_cd378_level0_row8\" class=\"row_heading level0 row8\" >gbc</th>\n",
       "      <td id=\"T_cd378_row8_col0\" class=\"data row8 col0\" >Gradient Boosting Classifier</td>\n",
       "      <td id=\"T_cd378_row8_col1\" class=\"data row8 col1\" >0.4747</td>\n",
       "      <td id=\"T_cd378_row8_col2\" class=\"data row8 col2\" >0.0000</td>\n",
       "      <td id=\"T_cd378_row8_col3\" class=\"data row8 col3\" >0.4747</td>\n",
       "      <td id=\"T_cd378_row8_col4\" class=\"data row8 col4\" >0.4896</td>\n",
       "      <td id=\"T_cd378_row8_col5\" class=\"data row8 col5\" >0.4622</td>\n",
       "      <td id=\"T_cd378_row8_col6\" class=\"data row8 col6\" >0.2120</td>\n",
       "      <td id=\"T_cd378_row8_col7\" class=\"data row8 col7\" >0.2212</td>\n",
       "      <td id=\"T_cd378_row8_col8\" class=\"data row8 col8\" >0.1610</td>\n",
       "    </tr>\n",
       "    <tr>\n",
       "      <th id=\"T_cd378_level0_row9\" class=\"row_heading level0 row9\" >et</th>\n",
       "      <td id=\"T_cd378_row9_col0\" class=\"data row9 col0\" >Extra Trees Classifier</td>\n",
       "      <td id=\"T_cd378_row9_col1\" class=\"data row9 col1\" >0.4676</td>\n",
       "      <td id=\"T_cd378_row9_col2\" class=\"data row9 col2\" >0.6553</td>\n",
       "      <td id=\"T_cd378_row9_col3\" class=\"data row9 col3\" >0.4676</td>\n",
       "      <td id=\"T_cd378_row9_col4\" class=\"data row9 col4\" >0.4775</td>\n",
       "      <td id=\"T_cd378_row9_col5\" class=\"data row9 col5\" >0.4542</td>\n",
       "      <td id=\"T_cd378_row9_col6\" class=\"data row9 col6\" >0.2017</td>\n",
       "      <td id=\"T_cd378_row9_col7\" class=\"data row9 col7\" >0.2106</td>\n",
       "      <td id=\"T_cd378_row9_col8\" class=\"data row9 col8\" >0.1680</td>\n",
       "    </tr>\n",
       "    <tr>\n",
       "      <th id=\"T_cd378_level0_row10\" class=\"row_heading level0 row10\" >svm</th>\n",
       "      <td id=\"T_cd378_row10_col0\" class=\"data row10 col0\" >SVM - Linear Kernel</td>\n",
       "      <td id=\"T_cd378_row10_col1\" class=\"data row10 col1\" >0.4659</td>\n",
       "      <td id=\"T_cd378_row10_col2\" class=\"data row10 col2\" >0.0000</td>\n",
       "      <td id=\"T_cd378_row10_col3\" class=\"data row10 col3\" >0.4659</td>\n",
       "      <td id=\"T_cd378_row10_col4\" class=\"data row10 col4\" >0.3895</td>\n",
       "      <td id=\"T_cd378_row10_col5\" class=\"data row10 col5\" >0.3959</td>\n",
       "      <td id=\"T_cd378_row10_col6\" class=\"data row10 col6\" >0.1914</td>\n",
       "      <td id=\"T_cd378_row10_col7\" class=\"data row10 col7\" >0.2393</td>\n",
       "      <td id=\"T_cd378_row10_col8\" class=\"data row10 col8\" >0.0700</td>\n",
       "    </tr>\n",
       "    <tr>\n",
       "      <th id=\"T_cd378_level0_row11\" class=\"row_heading level0 row11\" >knn</th>\n",
       "      <td id=\"T_cd378_row11_col0\" class=\"data row11 col0\" >K Neighbors Classifier</td>\n",
       "      <td id=\"T_cd378_row11_col1\" class=\"data row11 col1\" >0.4522</td>\n",
       "      <td id=\"T_cd378_row11_col2\" class=\"data row11 col2\" >0.6598</td>\n",
       "      <td id=\"T_cd378_row11_col3\" class=\"data row11 col3\" >0.4522</td>\n",
       "      <td id=\"T_cd378_row11_col4\" class=\"data row11 col4\" >0.5122</td>\n",
       "      <td id=\"T_cd378_row11_col5\" class=\"data row11 col5\" >0.4477</td>\n",
       "      <td id=\"T_cd378_row11_col6\" class=\"data row11 col6\" >0.1764</td>\n",
       "      <td id=\"T_cd378_row11_col7\" class=\"data row11 col7\" >0.1830</td>\n",
       "      <td id=\"T_cd378_row11_col8\" class=\"data row11 col8\" >0.0730</td>\n",
       "    </tr>\n",
       "    <tr>\n",
       "      <th id=\"T_cd378_level0_row12\" class=\"row_heading level0 row12\" >lightgbm</th>\n",
       "      <td id=\"T_cd378_row12_col0\" class=\"data row12 col0\" >Light Gradient Boosting Machine</td>\n",
       "      <td id=\"T_cd378_row12_col1\" class=\"data row12 col1\" >0.4462</td>\n",
       "      <td id=\"T_cd378_row12_col2\" class=\"data row12 col2\" >0.6636</td>\n",
       "      <td id=\"T_cd378_row12_col3\" class=\"data row12 col3\" >0.4462</td>\n",
       "      <td id=\"T_cd378_row12_col4\" class=\"data row12 col4\" >0.4435</td>\n",
       "      <td id=\"T_cd378_row12_col5\" class=\"data row12 col5\" >0.4227</td>\n",
       "      <td id=\"T_cd378_row12_col6\" class=\"data row12 col6\" >0.1677</td>\n",
       "      <td id=\"T_cd378_row12_col7\" class=\"data row12 col7\" >0.1770</td>\n",
       "      <td id=\"T_cd378_row12_col8\" class=\"data row12 col8\" >0.1520</td>\n",
       "    </tr>\n",
       "    <tr>\n",
       "      <th id=\"T_cd378_level0_row13\" class=\"row_heading level0 row13\" >dummy</th>\n",
       "      <td id=\"T_cd378_row13_col0\" class=\"data row13 col0\" >Dummy Classifier</td>\n",
       "      <td id=\"T_cd378_row13_col1\" class=\"data row13 col1\" >0.3456</td>\n",
       "      <td id=\"T_cd378_row13_col2\" class=\"data row13 col2\" >0.5000</td>\n",
       "      <td id=\"T_cd378_row13_col3\" class=\"data row13 col3\" >0.3456</td>\n",
       "      <td id=\"T_cd378_row13_col4\" class=\"data row13 col4\" >0.1204</td>\n",
       "      <td id=\"T_cd378_row13_col5\" class=\"data row13 col5\" >0.1783</td>\n",
       "      <td id=\"T_cd378_row13_col6\" class=\"data row13 col6\" >0.0000</td>\n",
       "      <td id=\"T_cd378_row13_col7\" class=\"data row13 col7\" >0.0000</td>\n",
       "      <td id=\"T_cd378_row13_col8\" class=\"data row13 col8\" >0.0770</td>\n",
       "    </tr>\n",
       "  </tbody>\n",
       "</table>\n"
      ],
      "text/plain": [
       "<pandas.io.formats.style.Styler at 0x1fe9cd81130>"
      ]
     },
     "metadata": {},
     "output_type": "display_data"
    },
    {
     "data": {
      "text/html": [],
      "text/plain": [
       "<IPython.core.display.HTML object>"
      ]
     },
     "metadata": {},
     "output_type": "display_data"
    }
   ],
   "source": [
    "best_model = compare_models(sort=\"Accuracy\")\n"
   ]
  },
  {
   "cell_type": "markdown",
   "id": "8bbec4b1-f0f2-478c-bd6a-636875225e55",
   "metadata": {},
   "source": [
    "## Model evaluation\n",
    "- Evaluate the best model performance using the evaluate_model function\n",
    "- Generates confusion matrix and roc-auc to see whats in the data\n",
    "- Plots feature importance to see which feature is important."
   ]
  },
  {
   "cell_type": "code",
   "execution_count": 6,
   "id": "6e2a40c5-dca6-4c06-9587-e1beb1eaa0ef",
   "metadata": {},
   "outputs": [
    {
     "data": {
      "application/vnd.jupyter.widget-view+json": {
       "model_id": "e8f0228d75c346548881dcaf2190887a",
       "version_major": 2,
       "version_minor": 0
      },
      "text/plain": [
       "interactive(children=(ToggleButtons(description='Plot Type:', icons=('',), options=(('Pipeline Plot', 'pipelin…"
      ]
     },
     "metadata": {},
     "output_type": "display_data"
    },
    {
     "data": {
      "text/html": [],
      "text/plain": [
       "<IPython.core.display.HTML object>"
      ]
     },
     "metadata": {},
     "output_type": "display_data"
    },
    {
     "data": {
      "image/png": "[encoded data removed]",
      "text/plain": [
       "<Figure size 800x550 with 1 Axes>"
      ]
     },
     "metadata": {},
     "output_type": "display_data"
    },
    {
     "data": {
      "text/html": [],
      "text/plain": [
       "<IPython.core.display.HTML object>"
      ]
     },
     "metadata": {},
     "output_type": "display_data"
    },
    {
     "data": {
      "image/png": "[encoded data removed]",
      "text/plain": [
       "<Figure size 800x550 with 1 Axes>"
      ]
     },
     "metadata": {},
     "output_type": "display_data"
    },
    {
     "name": "stdout",
     "output_type": "stream",
     "text": [
      "Feature Importance plot skipped as model does not support it.\n"
     ]
    }
   ],
   "source": [
    "evaluate_model(best_model) #provides an interactive ui with multiple evaluation metrics\n",
    "\n",
    "#generate a few plots to see the model performance analysis manually\n",
    "plot_model(best_model, plot=\"confusion_matrix\") #confusion matrix\n",
    "plot_model(best_model, plot=\"auc\") #auc roc curve for classificaiton performance.\n",
    "\n",
    "# Plot feature importance only if the selected model supports it\n",
    "if hasattr(best_model, \"coef_\") or hasattr(best_model, \"feature_importances_\"):\n",
    "    plot_model(best_model, plot=\"feature\")\n",
    "else:\n",
    "    print(\"Feature Importance plot skipped as model does not support it.\")\n"
   ]
  },
  {
   "cell_type": "markdown",
   "id": "e8e03709-05a6-483e-8dc4-692aaa4ddd52",
   "metadata": {},
   "source": [
    "## Generate predictions on test data\n",
    "- Generates prediction on unseen data to test model generalization"
   ]
  },
  {
   "cell_type": "code",
   "execution_count": 7,
   "id": "67e6e4a5-6097-4898-958f-5088262ab525",
   "metadata": {},
   "outputs": [
    {
     "data": {
      "text/html": [
       "<style type=\"text/css\">\n",
       "</style>\n",
       "<table id=\"T_e64bd\">\n",
       "  <thead>\n",
       "    <tr>\n",
       "      <th class=\"blank level0\" >&nbsp;</th>\n",
       "      <th id=\"T_e64bd_level0_col0\" class=\"col_heading level0 col0\" >Model</th>\n",
       "      <th id=\"T_e64bd_level0_col1\" class=\"col_heading level0 col1\" >Accuracy</th>\n",
       "      <th id=\"T_e64bd_level0_col2\" class=\"col_heading level0 col2\" >AUC</th>\n",
       "      <th id=\"T_e64bd_level0_col3\" class=\"col_heading level0 col3\" >Recall</th>\n",
       "      <th id=\"T_e64bd_level0_col4\" class=\"col_heading level0 col4\" >Prec.</th>\n",
       "      <th id=\"T_e64bd_level0_col5\" class=\"col_heading level0 col5\" >F1</th>\n",
       "      <th id=\"T_e64bd_level0_col6\" class=\"col_heading level0 col6\" >Kappa</th>\n",
       "      <th id=\"T_e64bd_level0_col7\" class=\"col_heading level0 col7\" >MCC</th>\n",
       "    </tr>\n",
       "  </thead>\n",
       "  <tbody>\n",
       "    <tr>\n",
       "      <th id=\"T_e64bd_level0_row0\" class=\"row_heading level0 row0\" >0</th>\n",
       "      <td id=\"T_e64bd_row0_col0\" class=\"data row0 col0\" >Naive Bayes</td>\n",
       "      <td id=\"T_e64bd_row0_col1\" class=\"data row0 col1\" >0.5500</td>\n",
       "      <td id=\"T_e64bd_row0_col2\" class=\"data row0 col2\" >0.7521</td>\n",
       "      <td id=\"T_e64bd_row0_col3\" class=\"data row0 col3\" >0.5500</td>\n",
       "      <td id=\"T_e64bd_row0_col4\" class=\"data row0 col4\" >0.5526</td>\n",
       "      <td id=\"T_e64bd_row0_col5\" class=\"data row0 col5\" >0.5399</td>\n",
       "      <td id=\"T_e64bd_row0_col6\" class=\"data row0 col6\" >0.3250</td>\n",
       "      <td id=\"T_e64bd_row0_col7\" class=\"data row0 col7\" >0.3318</td>\n",
       "    </tr>\n",
       "  </tbody>\n",
       "</table>\n"
      ],
      "text/plain": [
       "<pandas.io.formats.style.Styler at 0x1fec4095b50>"
      ]
     },
     "metadata": {},
     "output_type": "display_data"
    }
   ],
   "source": [
    "predictions = predict_model(best_model)"
   ]
  },
  {
   "cell_type": "markdown",
   "id": "b4f2c633-c2ed-447d-87dc-f21e94287a58",
   "metadata": {},
   "source": [
    "## mlflow\n",
    "- Start mlflow and save the models hyperparameters\n",
    "- Retrieve the log performance metrics  , save and register model in mlflow\n",
    "- Added codes to handle error"
   ]
  },
  {
   "cell_type": "code",
   "execution_count": 8,
   "id": "238cb210-8fef-4cdf-8774-3017f05f7e3d",
   "metadata": {
    "scrolled": true
   },
   "outputs": [
    {
     "name": "stderr",
     "output_type": "stream",
     "text": [
      "2025/02/17 16:09:12 WARNING mlflow.utils.git_utils: Failed to import Git (the Git executable is probably not on your PATH), so Git SHA is not available. Error: Failed to initialize: Bad git executable.\n",
      "The git executable must be specified in one of the following ways:\n",
      "    - be included in your $PATH\n",
      "    - be set via $GIT_PYTHON_GIT_EXECUTABLE\n",
      "    - explicitly set via git.refresh(<full-path-to-git-executable>)\n",
      "\n",
      "All git commands will error until this is rectified.\n",
      "\n",
      "This initial message can be silenced or aggravated in the future by setting the\n",
      "$GIT_PYTHON_REFRESH environment variable. Use one of the following values:\n",
      "    - quiet|q|silence|s|silent|none|n|0: for no message or exception\n",
      "    - warn|w|warning|log|l|1: for a warning message (logging level CRITICAL, displayed by default)\n",
      "    - error|e|exception|raise|r|2: for a raised exception\n",
      "\n",
      "Example:\n",
      "    export GIT_PYTHON_REFRESH=quiet\n",
      "\n",
      "2025/02/17 16:09:23 WARNING mlflow.models.model: Model logged without a signature and input example. Please set `input_example` parameter when logging the model to auto infer the model signature.\n"
     ]
    },
    {
     "name": "stdout",
     "output_type": "stream",
     "text": [
      "Error occurred during MLflow logging: name 'model_name' is not defined\n",
      "🏃 View run wheat_experiment_run at: http://localhost:5000/#/experiments/511741200058060408/runs/ccaf075d5aed4386980656c1bdf6ce27\n",
      "🧪 View experiment at: http://localhost:5000/#/experiments/511741200058060408\n"
     ]
    }
   ],
   "source": [
    "with mlflow.start_run(run_name=\"wheat_experiment_run\") as run:\n",
    "    try:\n",
    "        # Log model's parameters\n",
    "        mlflow.log_params(best_model.get_params())\n",
    "\n",
    "        # Get and log performance metrics\n",
    "        metrics = pull()\n",
    "        if not metrics.empty:\n",
    "            numeric_metrics = metrics.select_dtypes(include=['number']).iloc[0].to_dict()\n",
    "            mlflow.log_metrics(numeric_metrics)\n",
    "\n",
    "        # define model artiface name in mlflow\n",
    "        model_artifact_path = \"wheat_model\"\n",
    "        model_uri = f\"runs:/{run.info.run_id}/{model_artifact_path}\"\n",
    "\n",
    "        # finalized the best model which will retrain the full dataset\n",
    "        final_model = finalize_model(best_model)\n",
    "        #log the final model in mlflow , stored in mlflow.\n",
    "        mlflow.sklearn.log_model(final_model, artifact_path=model_artifact_path)\n",
    "\n",
    "        # Register Model in MLflow Model Registry\n",
    "        registered_model = mlflow.register_model(\n",
    "            model_uri=model_uri,  \n",
    "            name=model_name\n",
    "        )\n",
    "\n",
    "        # log model registry details for tracking \n",
    "        mlflow.log_param(\"registered_model_name\", model_name)\n",
    "        mlflow.log_param(\"registered_model_version\", registered_model.version)\n",
    "\n",
    "        print(f\"Model registered in MLflow as version {registered_model.version}\")\n",
    "\n",
    "    except Exception as e:\n",
    "        print(f\"Error occurred during MLflow logging: {e}\")"
   ]
  },
  {
   "cell_type": "markdown",
   "id": "8b0e685c-8482-4903-bac3-84b6c9db821d",
   "metadata": {},
   "source": [
    "## saving model for task 3 usage"
   ]
  },
  {
   "cell_type": "code",
   "execution_count": 10,
   "id": "a4556530-cda0-45c9-ac29-5223fdf27e75",
   "metadata": {},
   "outputs": [
    {
     "name": "stdout",
     "output_type": "stream",
     "text": [
      "Transformation Pipeline and Model Successfully Saved\n"
     ]
    },
    {
     "data": {
      "text/plain": [
       "(Pipeline(memory=Memory(location=None),\n",
       "          steps=[('label_encoding',\n",
       "                  TransformerWrapperWithInverse(exclude=None, include=None,\n",
       "                                                transformer=LabelEncoder())),\n",
       "                 ('numerical_imputer',\n",
       "                  TransformerWrapper(exclude=None,\n",
       "                                     include=['Area', 'Perimeter', 'Compactness',\n",
       "                                              'Length', 'Width',\n",
       "                                              'AsymmetryCoeff', 'Groove'],\n",
       "                                     transformer=SimpleImputer(add_indicator=False,\n",
       "                                                               copy=True,\n",
       "                                                               fill_va...\n",
       "                                                                                          min_child_weight=0.001,\n",
       "                                                                                          min_split_gain=0.0,\n",
       "                                                                                          n_estimators=100,\n",
       "                                                                                          n_jobs=None,\n",
       "                                                                                          num_leaves=31,\n",
       "                                                                                          objective=None,\n",
       "                                                                                          random_state=None,\n",
       "                                                                                          reg_alpha=0.0,\n",
       "                                                                                          reg_lambda=0.0,\n",
       "                                                                                          subsample=1.0,\n",
       "                                                                                          subsample_for_bin=200000,\n",
       "                                                                                          subsample_freq=0),\n",
       "                                                                 importance_getter='auto',\n",
       "                                                                 max_features=1,\n",
       "                                                                 norm_order=1,\n",
       "                                                                 prefit=False,\n",
       "                                                                 threshold=-inf))),\n",
       "                 ('actual_estimator',\n",
       "                  GaussianNB(priors=None, var_smoothing=1e-09))],\n",
       "          verbose=False),\n",
       " 'final_wheat_seeds_model.pkl')"
      ]
     },
     "execution_count": 10,
     "metadata": {},
     "output_type": "execute_result"
    }
   ],
   "source": [
    "save_model(final_model, 'final_wheat_seeds_model')\n"
   ]
  }
 ],
 "metadata": {
  "kernelspec": {
   "display_name": "Python [conda env:base] *",
   "language": "python",
   "name": "conda-base-py"
  },
  "language_info": {
   "codemirror_mode": {
    "name": "ipython",
    "version": 3
   },
   "file_extension": ".py",
   "mimetype": "text/x-python",
   "name": "python",
   "nbconvert_exporter": "python",
   "pygments_lexer": "ipython3",
   "version": "3.12.7"
  }
 },
 "nbformat": 4,
 "nbformat_minor": 5
}
